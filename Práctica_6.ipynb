{
  "nbformat": 4,
  "nbformat_minor": 0,
  "metadata": {
    "colab": {
      "provenance": [],
      "authorship_tag": "ABX9TyNOnKvsFLwn6VelyAvtDAjR",
      "include_colab_link": true
    },
    "kernelspec": {
      "name": "python3",
      "display_name": "Python 3"
    },
    "language_info": {
      "name": "python"
    }
  },
  "cells": [
    {
      "cell_type": "markdown",
      "metadata": {
        "id": "view-in-github",
        "colab_type": "text"
      },
      "source": [
        "<a href=\"https://colab.research.google.com/github/CristobalSVM/Procesamiento_Clasificacion_Datos/blob/main/Pr%C3%A1ctica_6.ipynb\" target=\"_parent\"><img src=\"https://colab.research.google.com/assets/colab-badge.svg\" alt=\"Open In Colab\"/></a>"
      ]
    },
    {
      "cell_type": "markdown",
      "source": [
        "#Práctica 6: Tomando en cuenta el estado de su proyecto:\n",
        "Si aun están en el desarrollo de su metodología para el procesamiento de datos,\n",
        "especifiquen, dependiendo de las características que llevan vistas hasta el\n",
        "momento de su conjunto de datos, cual es el tipo de modelo que van a utilizar,\n",
        "explicando cuales son los detalles que les hicieron pensar que ese era el mejor\n",
        "modelo."
      ],
      "metadata": {
        "id": "c34-oxAWDa3a"
      }
    },
    {
      "cell_type": "markdown",
      "source": [
        "El conjunto de datos es de la institución financiera Solidar, el cuál son créditos grupales con las siguientes variables:\n",
        "\n",
        "\\\\\n",
        "\n",
        "**Territorio**: territorio donde se encuentra registado el crédito del grupo (Norte, Centro y Sur)\n",
        "\n",
        "**Ciclo**: cantidad de renovaciones que lleva el grupo.\n",
        "\n",
        "**Monto**: monto otorgado de crédito al grupo.\n",
        "\n",
        "**Renovado**: variable independiente que indica si el crédito se renovó en octubre 2023, 1 sí, 0 no.\n",
        "\n",
        "**Integrantes**: cantidad de integrantes que tiene el grupo.\n",
        "\n",
        "\\\\\n",
        "\n",
        "Las caracteristicas de los datos son las siguientes:\n",
        "\n",
        "\\\\\n",
        "\n",
        "*   Información al cierre de Octubre 2023.\n",
        "*   927 observaciones\n",
        "*   Ciclo: máx = 48, mín = 0, prom. = 7\n",
        "* Monto otorgado: máx = \\$827,000, mín = \\$125,000, prom. = \\$116,610\n",
        "* Renovados = 612, No renovados = 315\n",
        "* Integrantes = : máx = 40, mín = 3, prom. = 8\n",
        "\n",
        "\n",
        "\n",
        "\\\\\n",
        "\n",
        "La metodología a utilizar son dos modelos de aprendizaje supervisado, en este analisis se adaptará a la renovación de créditos con variable de respuesta binaria.\n",
        "\n",
        "\\\\\n",
        "El primer modelo es el de Arboles de Desición, ofrecen una combinación de interpretabilidad, flexibilidad y eficiencia, lo que los hace apropiados para entender y explicar las decisiones. Sin embargo, también es importante considerar otros factores y evaluar el rendimiento del modelo en conjuntos de datos específicos antes de su implementación en situaciones financieras críticas.\n",
        "\n",
        "\\\\\n",
        "El segundo modelo es el de Bosques Aleatorios también tiene capacidad para mejorar la precisión predictiva, manejar datos complejos y ofrecer una visión de la importancia de las características en el proceso de toma de decisiones crediticias. Sin embargo, al igual que con cualquier modelo, es importante ajustar y validar adecuadamente el Bosque Aleatorio en conjuntos de datos específicos antes de su implementación en situaciones críticas.\n",
        "\n",
        "\\\\\n",
        "En el caso específico de la renovación de créditos, el modelo clasificaría cada solicitud de crédito en dos categorías: renovar o no renovar. Los Bosques Aleatorios, al ser un ensamble de múltiples árboles de decisión, son particularmente útiles para mejorar la precisión y la generalización en problemas de clasificación.\n"
      ],
      "metadata": {
        "id": "B4tg4NiBDmjA"
      }
    },
    {
      "cell_type": "markdown",
      "source": [],
      "metadata": {
        "id": "JfqAseYbDmdk"
      }
    },
    {
      "cell_type": "code",
      "source": [],
      "metadata": {
        "id": "fnofamFjDlai"
      },
      "execution_count": null,
      "outputs": []
    }
  ]
}